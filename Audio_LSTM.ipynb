{
 "cells": [
  {
   "cell_type": "code",
   "execution_count": 1,
   "metadata": {
    "colab": {
     "base_uri": "https://localhost:8080/"
    },
    "id": "3sF8eq33g1Zw",
    "outputId": "8b2a3334-3297-46ef-ab04-0a2c19132b21"
   },
   "outputs": [
    {
     "name": "stdout",
     "output_type": "stream",
     "text": [
      "Mounted at /content/drive\n"
     ]
    }
   ],
   "source": [
    "#from google.colab import drive\n",
    "#drive.mount('/content/drive')"
   ]
  },
  {
   "cell_type": "code",
   "execution_count": 2,
   "metadata": {
    "colab": {
     "base_uri": "https://localhost:8080/"
    },
    "id": "6yezTLDZg2oo",
    "outputId": "a2d1c29a-bc7e-457c-adee-7c071132e512"
   },
   "outputs": [
    {
     "name": "stdout",
     "output_type": "stream",
     "text": [
      "/content/drive/MyDrive\n"
     ]
    }
   ],
   "source": [
    "#cd /content/drive/MyDrive/"
   ]
  },
  {
   "cell_type": "code",
   "execution_count": 2,
   "metadata": {},
   "outputs": [
    {
     "name": "stdout",
     "output_type": "stream",
     "text": [
      "Collecting librosa\n",
      "  Downloading librosa-0.8.1-py3-none-any.whl (203 kB)\n",
      "Collecting resampy>=0.2.2\n",
      "  Downloading resampy-0.2.2.tar.gz (323 kB)\n",
      "Requirement already satisfied: decorator>=3.0.0 in c:\\users\\jafsi\\anaconda3\\lib\\site-packages (from librosa) (4.4.1)\n",
      "Requirement already satisfied: numba>=0.43.0 in c:\\users\\jafsi\\anaconda3\\lib\\site-packages (from librosa) (0.48.0)\n",
      "Requirement already satisfied: scipy>=1.0.0 in c:\\users\\jafsi\\anaconda3\\lib\\site-packages (from librosa) (1.4.1)\n",
      "Requirement already satisfied: numpy>=1.15.0 in c:\\users\\jafsi\\anaconda3\\lib\\site-packages (from librosa) (1.18.1)\n",
      "Requirement already satisfied: scikit-learn!=0.19.0,>=0.14.0 in c:\\users\\jafsi\\anaconda3\\lib\\site-packages (from librosa) (0.22.1)\n",
      "Requirement already satisfied: packaging>=20.0 in c:\\users\\jafsi\\anaconda3\\lib\\site-packages (from librosa) (20.1)\n",
      "Collecting audioread>=2.0.0\n",
      "  Downloading audioread-2.1.9.tar.gz (377 kB)\n",
      "Collecting pooch>=1.0\n",
      "  Downloading pooch-1.4.0-py3-none-any.whl (51 kB)\n",
      "Requirement already satisfied: joblib>=0.14 in c:\\users\\jafsi\\anaconda3\\lib\\site-packages (from librosa) (0.14.1)\n",
      "Collecting soundfile>=0.10.2\n",
      "  Downloading SoundFile-0.10.3.post1-py2.py3.cp26.cp27.cp32.cp33.cp34.cp35.cp36.pp27.pp32.pp33-none-win_amd64.whl (689 kB)\n",
      "Requirement already satisfied: llvmlite<0.32.0,>=0.31.0dev0 in c:\\users\\jafsi\\anaconda3\\lib\\site-packages (from numba>=0.43.0->librosa) (0.31.0)\n",
      "Requirement already satisfied: setuptools in c:\\users\\jafsi\\anaconda3\\lib\\site-packages (from numba>=0.43.0->librosa) (53.0.0)\n",
      "Requirement already satisfied: pyparsing>=2.0.2 in c:\\users\\jafsi\\anaconda3\\lib\\site-packages (from packaging>=20.0->librosa) (2.4.6)\n",
      "Requirement already satisfied: six in c:\\users\\jafsi\\anaconda3\\lib\\site-packages (from packaging>=20.0->librosa) (1.14.0)\n",
      "Collecting appdirs\n",
      "  Downloading appdirs-1.4.4-py2.py3-none-any.whl (9.6 kB)\n",
      "Requirement already satisfied: requests in c:\\users\\jafsi\\anaconda3\\lib\\site-packages (from pooch>=1.0->librosa) (2.22.0)\n",
      "Requirement already satisfied: cffi>=1.0 in c:\\users\\jafsi\\anaconda3\\lib\\site-packages (from soundfile>=0.10.2->librosa) (1.14.0)\n",
      "Requirement already satisfied: pycparser in c:\\users\\jafsi\\anaconda3\\lib\\site-packages (from cffi>=1.0->soundfile>=0.10.2->librosa) (2.19)\n",
      "Requirement already satisfied: certifi>=2017.4.17 in c:\\users\\jafsi\\anaconda3\\lib\\site-packages (from requests->pooch>=1.0->librosa) (2019.11.28)\n",
      "Requirement already satisfied: urllib3!=1.25.0,!=1.25.1,<1.26,>=1.21.1 in c:\\users\\jafsi\\anaconda3\\lib\\site-packages (from requests->pooch>=1.0->librosa) (1.25.8)\n",
      "Requirement already satisfied: idna<2.9,>=2.5 in c:\\users\\jafsi\\anaconda3\\lib\\site-packages (from requests->pooch>=1.0->librosa) (2.8)\n",
      "Requirement already satisfied: chardet<3.1.0,>=3.0.2 in c:\\users\\jafsi\\anaconda3\\lib\\site-packages (from requests->pooch>=1.0->librosa) (3.0.4)\n",
      "Building wheels for collected packages: audioread, resampy\n",
      "  Building wheel for audioread (setup.py): started\n",
      "  Building wheel for audioread (setup.py): finished with status 'done'\n",
      "  Created wheel for audioread: filename=audioread-2.1.9-py3-none-any.whl size=23141 sha256=8e66d82a06734680a2b3d8fbeda35be8855dbd54b523a2f9da667b37fc0949ff\n",
      "  Stored in directory: c:\\users\\jafsi\\appdata\\local\\pip\\cache\\wheels\\ba\\7b\\eb\\213741ccc0678f63e346ab8dff10495995ca3f426af87b8d88\n",
      "  Building wheel for resampy (setup.py): started\n",
      "  Building wheel for resampy (setup.py): finished with status 'done'\n",
      "  Created wheel for resampy: filename=resampy-0.2.2-py3-none-any.whl size=320718 sha256=d27bbeb2d699707b17e120154c2596617ac4b86ac6c439580f9245fca92d5d36\n",
      "  Stored in directory: c:\\users\\jafsi\\appdata\\local\\pip\\cache\\wheels\\a0\\18\\0a\\8ad18a597d8333a142c9789338a96a6208f1198d290ece356c\n",
      "Successfully built audioread resampy\n",
      "Installing collected packages: appdirs, soundfile, resampy, pooch, audioread, librosa\n",
      "Successfully installed appdirs-1.4.4 audioread-2.1.9 librosa-0.8.1 pooch-1.4.0 resampy-0.2.2 soundfile-0.10.3.post1\n",
      "Note: you may need to restart the kernel to use updated packages.\n"
     ]
    },
    {
     "name": "stderr",
     "output_type": "stream",
     "text": [
      "WARNING: You are using pip version 21.0.1; however, version 21.1.3 is available.\n",
      "You should consider upgrading via the 'C:\\Users\\JaFsi\\anaconda3\\python.exe -m pip install --upgrade pip' command.\n"
     ]
    }
   ],
   "source": [
    "pip install librosa"
   ]
  },
  {
   "cell_type": "code",
   "execution_count": 3,
   "metadata": {
    "id": "T7Ao_nHRgpTk"
   },
   "outputs": [],
   "source": [
    "import pandas as pd\n",
    "import os\n",
    "import librosa              # used for audio processing\n",
    "import librosa.display\n",
    "import matplotlib.pyplot as plt\n",
    "from sklearn.model_selection import train_test_split\n",
    "from sklearn.preprocessing import normalize\n",
    "import tensorflow as tf\n",
    "from tensorflow.keras.layers import LSTM, Dense\n",
    "from keras.preprocessing import sequence\n",
    "from keras.models import Sequential\n",
    "from sklearn.preprocessing import LabelBinarizer\n",
    "import numpy as np"
   ]
  },
  {
   "cell_type": "code",
   "execution_count": 6,
   "metadata": {
    "id": "PaqP1PEpmUqE"
   },
   "outputs": [
    {
     "name": "stdout",
     "output_type": "stream",
     "text": [
      "8770-295462-0010.wav\n",
      "(315977,)\n",
      "8770-295462-0011.wav\n",
      "(267026,)\n",
      "8770-295462-0012.wav\n",
      "(305834,)\n",
      "8770-295462-0013.wav\n",
      "(285658,)\n",
      "8770-295462-0014.wav\n",
      "(344311,)\n",
      "8770-295462-0020.wav\n",
      "(268017,)\n",
      "8770-295462-0021.wav\n",
      "(302859,)\n",
      "8770-295462-0022.wav\n",
      "(312008,)\n",
      "8770-295462-0023.wav\n",
      "(295360,)\n",
      "8770-295462-0024.wav\n",
      "(259308,)\n",
      "8770-295462-0025.wav\n",
      "(312008,)\n",
      "8770-295462-0026.wav\n",
      "(327994,)\n",
      "8770-295462-0027.wav\n",
      "(267357,)\n",
      "8770-295462-0028.wav\n",
      "(342327,)\n",
      "8770-295462-0029.wav\n",
      "(318954,)\n",
      "8770-295462-0037.wav\n",
      "(303298,)\n",
      "8770-295462-0038.wav\n",
      "(318513,)\n",
      "8770-295462-0039.wav\n",
      "(320277,)\n",
      "8770-295462-0040.wav\n",
      "(132190,)\n",
      "8770-295462-0041.wav\n",
      "(137592,)\n",
      "8797-294123-0000.wav\n",
      "(74750,)\n",
      "8797-294123-0001.wav\n",
      "(320277,)\n",
      "8797-294123-0002.wav\n",
      "(265703,)\n",
      "8797-294123-0013.wav\n",
      "(307157,)\n",
      "8797-294123-0014.wav\n",
      "(325569,)\n",
      "8797-294123-0015.wav\n",
      "(303739,)\n",
      "8797-294123-0016.wav\n",
      "(301644,)\n",
      "8797-294123-0017.wav\n",
      "(321820,)\n",
      "8797-294123-0023.wav\n",
      "(282571,)\n",
      "8797-294123-0024.wav\n",
      "(326451,)\n",
      "8797-294123-0025.wav\n",
      "(313662,)\n",
      "8797-294123-0026.wav\n",
      "(197679,)\n",
      "8797-294123-0027.wav\n",
      "(302526,)\n",
      "8797-294123-0028.wav\n",
      "(260742,)\n",
      "8797-294123-0029.wav\n",
      "(279374,)\n",
      "8797-294123-0037.wav\n",
      "(48841,)\n",
      "8797-294123-0038.wav\n",
      "(276507,)\n",
      "8797-294123-0039.wav\n",
      "(323474,)\n",
      "8797-294123-0040.wav\n",
      "(300652,)\n",
      "8797-294123-0041.wav\n",
      "(341004,)\n",
      "8838-298545-0000.wav\n",
      "(307377,)\n",
      "8838-298545-0001.wav\n",
      "(325789,)\n",
      "8838-298545-0002.wav\n",
      "(264821,)\n",
      "8838-298545-0003.wav\n",
      "(319615,)\n",
      "8838-298545-0010.wav\n",
      "(325458,)\n",
      "8838-298545-0011.wav\n",
      "(341996,)\n",
      "8838-298545-0012.wav\n",
      "(325789,)\n",
      "8838-298545-0018.wav\n",
      "(346957,)\n",
      "8838-298545-0019.wav\n",
      "(342106,)\n",
      "8838-298545-0020.wav\n",
      "(305834,)\n",
      "8838-298545-0021.wav\n",
      "(324797,)\n",
      "8838-298545-0022.wav\n",
      "(331522,)\n",
      "8838-298545-0023.wav\n",
      "(327112,)\n",
      "8838-298545-0024.wav\n",
      "(286761,)\n",
      "8838-298545-0025.wav\n",
      "(338247,)\n",
      "8838-298545-0026.wav\n",
      "(338909,)\n",
      "8838-298545-0027.wav\n",
      "(374189,)\n",
      "8838-298545-0028.wav\n",
      "(299219,)\n",
      "8838-298545-0029.wav\n",
      "(337035,)\n",
      "8838-298545-0041.wav\n",
      "(314985,)\n"
     ]
    }
   ],
   "source": [
    "X=[]\n",
    "Y=[]\n",
    "for folder in os.scandir('./Audio'):\n",
    "    for file in os.scandir(folder.path):\n",
    "        print(file.name)\n",
    "        y,sr=librosa.load(file.path)\n",
    "        X.append(y)\n",
    "        Y.append(folder.name)\n",
    "        print(y.shape)"
   ]
  },
  {
   "cell_type": "code",
   "execution_count": 7,
   "metadata": {},
   "outputs": [
    {
     "name": "stdout",
     "output_type": "stream",
     "text": [
      "(60, 30000)\n",
      "(60, 30000, 1)\n"
     ]
    }
   ],
   "source": [
    "enc = LabelBinarizer()\n",
    "max_review_length = 30000\n",
    "X_tr = sequence.pad_sequences(X, maxlen=max_review_length)[:30000]\n",
    "print(X_tr.shape)\n",
    "X_tr = X_tr.reshape( X_tr.shape[0], X_tr.shape[1],-1)\n",
    "print(X_tr.shape)\n",
    "Y = enc.fit(Y).transform(Y)"
   ]
  },
  {
   "cell_type": "code",
   "execution_count": null,
   "metadata": {},
   "outputs": [],
   "source": [
    "#X_tr = np.array(X_tr, dtype=np.float32) # if we need convert to float"
   ]
  },
  {
   "cell_type": "code",
   "execution_count": null,
   "metadata": {},
   "outputs": [
    {
     "name": "stdout",
     "output_type": "stream",
     "text": [
      "Model: \"sequential\"\n",
      "_________________________________________________________________\n",
      "Layer (type)                 Output Shape              Param #   \n",
      "=================================================================\n",
      "lstm (LSTM)                  (None, 100)               40800     \n",
      "_________________________________________________________________\n",
      "dense (Dense)                (None, 3)                 303       \n",
      "=================================================================\n",
      "Total params: 41,103\n",
      "Trainable params: 41,103\n",
      "Non-trainable params: 0\n",
      "_________________________________________________________________\n",
      "None\n",
      "Epoch 1/10\n",
      "60/60 [==============================] - ETA: 0s - loss: 1.1076 - accuracy: 0.283 - 2105s 35s/step - loss: 1.1076 - accuracy: 0.2833\n",
      "Epoch 2/10\n",
      "50/60 [========================>.....] - ETA: 5:42 - loss: 1.1022 - accuracy: 0.2400"
     ]
    }
   ],
   "source": [
    "modelClass = Sequential()\n",
    "modelClass.add(LSTM(100, input_shape=(30000,1)))\n",
    "modelClass.add(Dense(3, activation='softmax')) # categorical\n",
    "modelClass.compile(loss='categorical_crossentropy', optimizer='adam', metrics=['accuracy'])\n",
    "print(modelClass.summary())\n",
    "modelClass.fit(X_tr, Y, epochs=10, batch_size=1)\n",
    "\n",
    "scores = modelClass.evaluate(X_tr, Y, verbose=0)\n",
    "print(\"Accuracy: %.2f%%\" % (scores[1]*100))"
   ]
  },
  {
   "cell_type": "code",
   "execution_count": 7,
   "metadata": {
    "colab": {
     "base_uri": "https://localhost:8080/"
    },
    "id": "WkVCoy66gpTp",
    "outputId": "a04a7d99-72f1-4923-f2a2-5da7263c72ed"
   },
   "outputs": [
    {
     "name": "stdout",
     "output_type": "stream",
     "text": [
      "[[1 0 0]\n",
      " [1 0 0]\n",
      " [1 0 0]\n",
      " [1 0 0]\n",
      " [1 0 0]\n",
      " [1 0 0]\n",
      " [1 0 0]\n",
      " [1 0 0]\n",
      " [1 0 0]\n",
      " [1 0 0]\n",
      " [1 0 0]\n",
      " [1 0 0]\n",
      " [1 0 0]\n",
      " [1 0 0]\n",
      " [1 0 0]\n",
      " [1 0 0]\n",
      " [1 0 0]\n",
      " [1 0 0]\n",
      " [1 0 0]\n",
      " [1 0 0]\n",
      " [0 0 1]\n",
      " [0 0 1]\n",
      " [0 0 1]\n",
      " [0 0 1]\n",
      " [0 0 1]\n",
      " [0 0 1]\n",
      " [0 0 1]\n",
      " [0 0 1]\n",
      " [0 0 1]\n",
      " [0 0 1]\n",
      " [0 0 1]\n",
      " [0 0 1]\n",
      " [0 0 1]\n",
      " [0 0 1]\n",
      " [0 0 1]\n",
      " [0 0 1]\n",
      " [0 0 1]\n",
      " [0 0 1]\n",
      " [0 0 1]\n",
      " [0 0 1]\n",
      " [0 1 0]\n",
      " [0 1 0]\n",
      " [0 1 0]\n",
      " [0 1 0]\n",
      " [0 1 0]\n",
      " [0 1 0]\n",
      " [0 1 0]\n",
      " [0 1 0]\n",
      " [0 1 0]\n",
      " [0 1 0]\n",
      " [0 1 0]\n",
      " [0 1 0]\n",
      " [0 1 0]\n",
      " [0 1 0]\n",
      " [0 1 0]\n",
      " [0 1 0]\n",
      " [0 1 0]\n",
      " [0 1 0]\n",
      " [0 1 0]\n",
      " [0 1 0]]\n"
     ]
    }
   ],
   "source": [
    "print(Y)"
   ]
  },
  {
   "cell_type": "code",
   "execution_count": null,
   "metadata": {
    "id": "FFB3J0zVgpTq"
   },
   "outputs": [],
   "source": []
  }
 ],
 "metadata": {
  "accelerator": "GPU",
  "colab": {
   "collapsed_sections": [],
   "name": "Audio_LSTM.ipynb",
   "provenance": []
  },
  "kernelspec": {
   "display_name": "Python 3",
   "language": "python",
   "name": "python3"
  },
  "language_info": {
   "codemirror_mode": {
    "name": "ipython",
    "version": 3
   },
   "file_extension": ".py",
   "mimetype": "text/x-python",
   "name": "python",
   "nbconvert_exporter": "python",
   "pygments_lexer": "ipython3",
   "version": "3.7.6"
  }
 },
 "nbformat": 4,
 "nbformat_minor": 1
}
