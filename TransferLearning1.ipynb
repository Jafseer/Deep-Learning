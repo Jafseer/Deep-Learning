{
 "cells": [
  {
   "cell_type": "code",
   "execution_count": 48,
   "metadata": {},
   "outputs": [
    {
     "name": "stdout",
     "output_type": "stream",
     "text": [
      "WARNING:tensorflow:`input_shape` is undefined or non-square, or `rows` is not in [96, 128, 160, 192, 224]. Weights for input shape (224, 224) will be loaded as the default.\n",
      "lemon\n",
      "melon\n",
      "No of classes :  2\n"
     ]
    }
   ],
   "source": [
    "import os\n",
    "from PIL import Image\n",
    "import numpy as np\n",
    "import keras\n",
    "import os\n",
    "import cv2\n",
    "from matplotlib import pyplot as plt\n",
    "from keras.applications.vgg16 import VGG16\n",
    "from keras.applications.resnet50 import ResNet50\n",
    "from keras.applications.xception import Xception\n",
    "from keras.applications.mobilenet_v2 import MobileNetV2\n",
    "from keras.applications.inception_v3 import InceptionV3\n",
    "from keras.applications.densenet import DenseNet121\n",
    "from keras.preprocessing import image\n",
    "from keras.applications.vgg16 import preprocess_input\n",
    "import numpy as np\n",
    "from keras.applications.vgg16 import decode_predictions\n",
    "import tensorflow as tf\n",
    "from tensorflow.python.keras import layers\n",
    "from tensorflow.python.keras import models\n",
    "import random\n",
    "\n",
    "\n",
    "\n",
    "vggModel = VGG16(weights='imagenet', include_top=False)\n",
    "resModel = ResNet50(weights='imagenet',include_top=False)\n",
    "xceptionModel = Xception(weights='imagenet',include_top=False)\n",
    "mobilenetModel = MobileNetV2(weights='imagenet',include_top=False)\n",
    "inceptionModel = InceptionV3(weights='imagenet',include_top=False)\n",
    "densenetModel = DenseNet121(weights='imagenet',include_top=False)\n",
    "\n",
    "model = resModel\n",
    "\n",
    "X = []\n",
    "Y = []\n",
    "classCount = 0\n",
    "\n",
    "base_path='./dataset'\n",
    "\n",
    "source_path=base_path\n",
    "for child in os.listdir(source_path):\n",
    "    classCount +=1\n",
    "    print(child)\n",
    "    sub_path = os.path.join(source_path, child)\n",
    "    if os.path.isdir(sub_path):\n",
    "        for data_file in os.listdir(sub_path):\n",
    "            Qry = Image.open(os.path.join(sub_path, data_file))\n",
    "            Qry = Qry.convert(\"RGB\")\n",
    "            Qry = np.array(Qry.resize((224,224)))\n",
    "            Qry = Qry.reshape([-1,224,224,3])\n",
    "            feature=(model.predict([Qry])).flatten()\n",
    "            #print(feature_set)\n",
    "            X.append(feature)\n",
    "            Y.append(child)\n",
    "    \n",
    "#print(X)\n",
    "#print(Y)\n",
    "print('No of classes : ',classCount)\n"
   ]
  },
  {
   "cell_type": "code",
   "execution_count": 49,
   "metadata": {},
   "outputs": [
    {
     "name": "stdout",
     "output_type": "stream",
     "text": [
      "(42, 100352)\n",
      "(42,)\n"
     ]
    }
   ],
   "source": [
    "print(np.shape(X))\n",
    "print(np.shape(Y))"
   ]
  },
  {
   "cell_type": "code",
   "execution_count": 50,
   "metadata": {},
   "outputs": [
    {
     "name": "stdout",
     "output_type": "stream",
     "text": [
      "(42, 245)\n",
      "(42,)\n"
     ]
    }
   ],
   "source": [
    "from sklearn.ensemble import ExtraTreesClassifier\n",
    "from sklearn.feature_selection import SelectFromModel\n",
    "\n",
    "clf = ExtraTreesClassifier(n_estimators=50)\n",
    "clf = clf.fit(X, Y)\n",
    "model = SelectFromModel(clf, prefit=True)\n",
    "X = model.transform(X)\n",
    "\n",
    "print(np.shape(X))\n",
    "print(np.shape(Y))"
   ]
  },
  {
   "cell_type": "code",
   "execution_count": 51,
   "metadata": {},
   "outputs": [
    {
     "name": "stdout",
     "output_type": "stream",
     "text": [
      "[0 0 0 0 0 0 0 0 0 0 0 0 0 0 0 0 0 0 0 0 0 0 1 1 1 1 1 1 1 1 1 1 1 1 1 1 1\n",
      " 1 1 1 1 1]\n",
      "Model: \"sequential_3\"\n",
      "_________________________________________________________________\n",
      "Layer (type)                 Output Shape              Param #   \n",
      "=================================================================\n",
      "dense_30 (Dense)             (None, 10000)             2460000   \n",
      "_________________________________________________________________\n",
      "dense_31 (Dense)             (None, 5000)              50005000  \n",
      "_________________________________________________________________\n",
      "dense_32 (Dense)             (None, 2000)              10002000  \n",
      "_________________________________________________________________\n",
      "dense_33 (Dense)             (None, 500)               1000500   \n",
      "_________________________________________________________________\n",
      "dense_34 (Dense)             (None, 300)               150300    \n",
      "_________________________________________________________________\n",
      "dense_35 (Dense)             (None, 200)               60200     \n",
      "_________________________________________________________________\n",
      "dense_36 (Dense)             (None, 120)               24120     \n",
      "_________________________________________________________________\n",
      "dense_37 (Dense)             (None, 30)                3630      \n",
      "_________________________________________________________________\n",
      "dense_38 (Dense)             (None, 30)                930       \n",
      "_________________________________________________________________\n",
      "dense_39 (Dense)             (None, 1)                 31        \n",
      "=================================================================\n",
      "Total params: 63,706,711\n",
      "Trainable params: 63,706,711\n",
      "Non-trainable params: 0\n",
      "_________________________________________________________________\n",
      "Epoch 1/25\n",
      "8/8 [==============================] - 15s 482ms/step - loss: 1.9499 - accuracy: 0.6529\n",
      "Epoch 2/25\n",
      "8/8 [==============================] - 4s 462ms/step - loss: 0.6811 - accuracy: 0.8053\n",
      "Epoch 3/25\n",
      "8/8 [==============================] - 4s 475ms/step - loss: 0.0225 - accuracy: 1.0000\n",
      "Epoch 4/25\n",
      "8/8 [==============================] - 4s 472ms/step - loss: 1.0878e-08 - accuracy: 1.0000\n",
      "Epoch 5/25\n",
      "8/8 [==============================] - 4s 453ms/step - loss: 2.9107e-13 - accuracy: 1.0000\n",
      "Epoch 6/25\n",
      "8/8 [==============================] - 4s 474ms/step - loss: 3.2496e-14 - accuracy: 1.0000\n",
      "Epoch 7/25\n",
      "8/8 [==============================] - 4s 467ms/step - loss: 2.7054e-16 - accuracy: 1.0000\n",
      "Epoch 8/25\n",
      "8/8 [==============================] - 4s 473ms/step - loss: 7.5444e-17 - accuracy: 1.0000\n",
      "Epoch 9/25\n",
      "8/8 [==============================] - 4s 465ms/step - loss: 3.8032e-17 - accuracy: 1.0000\n",
      "Epoch 10/25\n",
      "8/8 [==============================] - 4s 462ms/step - loss: 3.5091e-17 - accuracy: 1.0000\n",
      "Epoch 11/25\n",
      "8/8 [==============================] - 4s 457ms/step - loss: 9.3969e-17 - accuracy: 1.0000\n",
      "Epoch 12/25\n",
      "8/8 [==============================] - 4s 473ms/step - loss: 1.2022e-16 - accuracy: 1.0000\n",
      "Epoch 13/25\n",
      "8/8 [==============================] - 4s 474ms/step - loss: 1.2400e-16 - accuracy: 1.0000\n",
      "Epoch 14/25\n",
      "8/8 [==============================] - 4s 466ms/step - loss: 7.0338e-17 - accuracy: 1.0000\n",
      "Epoch 15/25\n",
      "8/8 [==============================] - 4s 463ms/step - loss: 6.7327e-17 - accuracy: 1.0000\n",
      "Epoch 16/25\n",
      "8/8 [==============================] - 4s 517ms/step - loss: 8.3417e-17 - accuracy: 1.0000\n",
      "Epoch 17/25\n",
      "8/8 [==============================] - 4s 477ms/step - loss: 9.1727e-17 - accuracy: 1.0000\n",
      "Epoch 18/25\n",
      "8/8 [==============================] - 4s 481ms/step - loss: 4.8779e-17 - accuracy: 1.0000\n",
      "Epoch 19/25\n",
      "8/8 [==============================] - 4s 470ms/step - loss: 8.4452e-17 - accuracy: 1.0000\n",
      "Epoch 20/25\n",
      "8/8 [==============================] - 4s 485ms/step - loss: 3.8994e-17 - accuracy: 1.0000\n",
      "Epoch 21/25\n",
      "8/8 [==============================] - 4s 485ms/step - loss: 1.1406e-16 - accuracy: 1.0000\n",
      "Epoch 22/25\n",
      "8/8 [==============================] - 4s 477ms/step - loss: 1.7387e-16 - accuracy: 1.0000\n",
      "Epoch 23/25\n",
      "8/8 [==============================] - 4s 468ms/step - loss: 5.2138e-17 - accuracy: 1.0000\n",
      "Epoch 24/25\n",
      "8/8 [==============================] - 4s 471ms/step - loss: 3.3888e-17 - accuracy: 1.0000\n",
      "Epoch 25/25\n",
      "8/8 [==============================] - 4s 473ms/step - loss: 1.1453e-16 - accuracy: 1.0000\n",
      "1/1 [==============================] - 0s 433ms/step - loss: 4.7423e-13 - accuracy: 1.0000\n",
      "1.0\n"
     ]
    }
   ],
   "source": [
    "from sklearn.preprocessing import LabelEncoder\n",
    "from sklearn.model_selection import train_test_split\n",
    "\n",
    "encoder = LabelEncoder()\n",
    "y = encoder.fit_transform(Y)\n",
    "print(y)        \n",
    "X_train, X_test, y_train, y_test = train_test_split(np.array(X), np.array(y), \n",
    "                                                    test_size=0.3, random_state=42)\n",
    "\n",
    "random.seed(42)\n",
    "np.random.seed(42)\n",
    "tf.random.set_seed(42)\n",
    "\n",
    "\n",
    "dnnModel=models.Sequential()\n",
    "dnnModel.add(layers.Dense(10000,activation=\"relu\",input_shape=(np.shape(X)[1],)))\n",
    "dnnModel.add(layers.Dense(5000,activation=\"relu\"))\n",
    "dnnModel.add(layers.Dense(2000,activation=\"relu\"))\n",
    "dnnModel.add(layers.Dense(500,activation=\"relu\"))\n",
    "dnnModel.add(layers.Dense(300,activation=\"relu\"))\n",
    "dnnModel.add(layers.Dense(200,activation=\"relu\"))\n",
    "dnnModel.add(layers.Dense(120,activation=\"relu\"))\n",
    "dnnModel.add(layers.Dense(30,activation=\"relu\"))\n",
    "dnnModel.add(layers.Dense(30,activation=\"relu\"))\n",
    "dnnModel.add(layers.Dense(1,activation=\"sigmoid\"))\n",
    "dnnModel.summary()\n",
    "\n",
    "\n",
    "dnnModel.compile(optimizer=\"adam\",loss=\"binary_crossentropy\",metrics=[\"accuracy\"])\n",
    "\n",
    "\n",
    "dnnModel.fit(X_train,y_train,epochs=25,batch_size=4)\n",
    "\n",
    "testloss, testAccuracy=dnnModel.evaluate(X_test,y_test)\n",
    "\n",
    "print(testAccuracy)\n"
   ]
  },
  {
   "cell_type": "code",
   "execution_count": 52,
   "metadata": {},
   "outputs": [],
   "source": [
    "from sklearn.model_selection import cross_val_score\n",
    "from sklearn.linear_model import LogisticRegression\n",
    "from sklearn.naive_bayes import GaussianNB\n",
    "from sklearn.svm import SVC\n",
    "from sklearn.ensemble import RandomForestClassifier\n",
    "from sklearn.ensemble import VotingClassifier\n",
    "import seaborn as sns\n",
    "from sklearn.metrics import confusion_matrix"
   ]
  },
  {
   "cell_type": "code",
   "execution_count": 53,
   "metadata": {},
   "outputs": [
    {
     "name": "stdout",
     "output_type": "stream",
     "text": [
      "Accuracy: 0.98 (+/- 0.02) [Logistic Regression]\n",
      "Accuracy: 0.93 (+/- 0.02) [Random Forest]\n",
      "Accuracy: 0.95 (+/- 0.00) [Naive Bayes]\n",
      "Accuracy: 1.00 (+/- 0.00) [SVM]\n",
      "Accuracy: 0.98 (+/- 0.02) [Ensemble]\n"
     ]
    },
    {
     "name": "stderr",
     "output_type": "stream",
     "text": [
      "C:\\Users\\shail\\anaconda3\\lib\\site-packages\\seaborn\\_decorators.py:36: FutureWarning: Pass the following variables as keyword args: x, y. From version 0.12, the only valid positional argument will be `data`, and passing other arguments without an explicit keyword will result in an error or misinterpretation.\n",
      "  warnings.warn(\n"
     ]
    },
    {
     "data": {
      "text/plain": [
       "<AxesSubplot:>"
      ]
     },
     "execution_count": 53,
     "metadata": {},
     "output_type": "execute_result"
    },
    {
     "data": {
      "image/png": "[encoded data removed]",
      "text/plain": [
       "<Figure size 432x288 with 1 Axes>"
      ]
     },
     "metadata": {
      "needs_background": "light"
     },
     "output_type": "display_data"
    }
   ],
   "source": [
    "\n",
    "clf1 = LogisticRegression(random_state=1)\n",
    "clf2 = RandomForestClassifier(n_estimators=50, random_state=1)\n",
    "clf3 = GaussianNB()\n",
    "clf4 = SVC()\n",
    "\n",
    "eclf = VotingClassifier(\n",
    "    estimators=[('lr', clf1), ('rf', clf2), ('gnb', clf3), ('svm', clf4)],\n",
    "    voting='hard')\n",
    "\n",
    "acc=[]\n",
    "for clf, label in zip([clf1, clf2, clf3,clf4, eclf], ['Logistic Regression', 'Random Forest', 'Naive Bayes', 'SVM','Ensemble']):\n",
    "    scores = cross_val_score(clf, X, y, scoring='accuracy', cv=2)\n",
    "    print(\"Accuracy: %0.2f (+/- %0.2f) [%s]\" % (scores.mean(), scores.std(), label))\n",
    "    acc.append(scores.mean())\n",
    "sns.barplot(['Logistic Regression', 'Random Forest', 'Naive Bayes', 'SVM','Ensemble'],acc)"
   ]
  },
  {
   "cell_type": "code",
   "execution_count": 54,
   "metadata": {},
   "outputs": [
    {
     "data": {
      "text/plain": [
       "<AxesSubplot:>"
      ]
     },
     "execution_count": 54,
     "metadata": {},
     "output_type": "execute_result"
    },
    {
     "data": {
      "image/png": "[encoded data removed]",
      "text/plain": [
       "<Figure size 432x288 with 2 Axes>"
      ]
     },
     "metadata": {
      "needs_background": "light"
     },
     "output_type": "display_data"
    }
   ],
   "source": [
    "clf1.fit(X_train,y_train)\n",
    "cm = confusion_matrix(y_test,clf1.predict(X_test))\n",
    "sns.heatmap(cm,annot=True,xticklabels=encoder.inverse_transform([0,1]),yticklabels=encoder.inverse_transform([0,1]),cmap='Greens')"
   ]
  },
  {
   "cell_type": "code",
   "execution_count": 55,
   "metadata": {},
   "outputs": [
    {
     "data": {
      "text/plain": [
       "<AxesSubplot:>"
      ]
     },
     "execution_count": 55,
     "metadata": {},
     "output_type": "execute_result"
    },
    {
     "data": {
      "image/png": "[encoded data removed]",
      "text/plain": [
       "<Figure size 432x288 with 2 Axes>"
      ]
     },
     "metadata": {
      "needs_background": "light"
     },
     "output_type": "display_data"
    }
   ],
   "source": [
    "clf2.fit(X_train,y_train)\n",
    "cm = confusion_matrix(y_test,clf2.predict(X_test))\n",
    "sns.heatmap(cm,annot=True,xticklabels=encoder.inverse_transform([0,1]),yticklabels=encoder.inverse_transform([0,1]),cmap='Blues')"
   ]
  },
  {
   "cell_type": "code",
   "execution_count": 56,
   "metadata": {},
   "outputs": [
    {
     "data": {
      "text/plain": [
       "<AxesSubplot:>"
      ]
     },
     "execution_count": 56,
     "metadata": {},
     "output_type": "execute_result"
    },
    {
     "data": {
      "image/png": "[encoded data removed]",
      "text/plain": [
       "<Figure size 432x288 with 2 Axes>"
      ]
     },
     "metadata": {
      "needs_background": "light"
     },
     "output_type": "display_data"
    }
   ],
   "source": [
    "clf3.fit(X_train,y_train)\n",
    "cm = confusion_matrix(y_test,clf3.predict(X_test))\n",
    "sns.heatmap(cm,annot=True,xticklabels=encoder.inverse_transform([0,1]),yticklabels=encoder.inverse_transform([0,1]),cmap='Oranges')"
   ]
  },
  {
   "cell_type": "code",
   "execution_count": 57,
   "metadata": {},
   "outputs": [
    {
     "data": {
      "text/plain": [
       "<AxesSubplot:>"
      ]
     },
     "execution_count": 57,
     "metadata": {},
     "output_type": "execute_result"
    },
    {
     "data": {
      "image/png": "[encoded data removed]",
      "text/plain": [
       "<Figure size 432x288 with 2 Axes>"
      ]
     },
     "metadata": {
      "needs_background": "light"
     },
     "output_type": "display_data"
    }
   ],
   "source": [
    "clf4.fit(X_train,y_train)\n",
    "cm = confusion_matrix(y_test,clf4.predict(X_test))\n",
    "sns.heatmap(cm,annot=True,xticklabels=encoder.inverse_transform([0,1]),yticklabels=encoder.inverse_transform([0,1]), cmap='Reds')"
   ]
  },
  {
   "cell_type": "code",
   "execution_count": 58,
   "metadata": {},
   "outputs": [
    {
     "data": {
      "text/plain": [
       "<AxesSubplot:>"
      ]
     },
     "execution_count": 58,
     "metadata": {},
     "output_type": "execute_result"
    },
    {
     "data": {
      "image/png": "[encoded data removed]",
      "text/plain": [
       "<Figure size 432x288 with 2 Axes>"
      ]
     },
     "metadata": {
      "needs_background": "light"
     },
     "output_type": "display_data"
    }
   ],
   "source": [
    "eclf.fit(X_train,y_train)\n",
    "cm = confusion_matrix(y_test,eclf.predict(X_test))\n",
    "sns.heatmap(cm,annot=True,xticklabels=encoder.inverse_transform([0,1]),yticklabels=encoder.inverse_transform([0,1]),cmap='Greys')"
   ]
  },
  {
   "cell_type": "code",
   "execution_count": null,
   "metadata": {},
   "outputs": [],
   "source": []
  }
 ],
 "metadata": {
  "kernelspec": {
   "display_name": "Python 3",
   "language": "python",
   "name": "python3"
  },
  "language_info": {
   "codemirror_mode": {
    "name": "ipython",
    "version": 3
   },
   "file_extension": ".py",
   "mimetype": "text/x-python",
   "name": "python",
   "nbconvert_exporter": "python",
   "pygments_lexer": "ipython3",
   "version": "3.7.6"
  }
 },
 "nbformat": 4,
 "nbformat_minor": 2
}
