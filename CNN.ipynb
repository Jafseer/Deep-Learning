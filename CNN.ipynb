{
 "cells": [
  {
   "cell_type": "markdown",
   "metadata": {},
   "source": [
    "# CNN"
   ]
  },
  {
   "cell_type": "code",
   "execution_count": 23,
   "metadata": {},
   "outputs": [],
   "source": [
    "import tensorflow as tf\n",
    "from tensorflow.keras import layers\n",
    "from tensorflow.keras import models\n",
    "import random\n",
    "import numpy as np"
   ]
  },
  {
   "cell_type": "code",
   "execution_count": 24,
   "metadata": {},
   "outputs": [],
   "source": [
    "random.seed(42)\n",
    "np.random.seed(42)\n",
    "tf.random.set_seed(42)"
   ]
  },
  {
   "cell_type": "code",
   "execution_count": 25,
   "metadata": {},
   "outputs": [],
   "source": [
    "mnist = tf.keras.datasets.mnist"
   ]
  },
  {
   "cell_type": "code",
   "execution_count": 26,
   "metadata": {},
   "outputs": [],
   "source": [
    "(x_train,y_train),(x_test,y_test) = mnist.load_data()"
   ]
  },
  {
   "cell_type": "code",
   "execution_count": 27,
   "metadata": {},
   "outputs": [
    {
     "name": "stdout",
     "output_type": "stream",
     "text": [
      "(60000, 28, 28)\n",
      "(60000,)\n"
     ]
    }
   ],
   "source": [
    "print(x_train.shape)\n",
    "print(y_train.shape)"
   ]
  },
  {
   "cell_type": "code",
   "execution_count": 28,
   "metadata": {},
   "outputs": [
    {
     "name": "stdout",
     "output_type": "stream",
     "text": [
      "(10000, 28, 28)\n",
      "(10000,)\n"
     ]
    }
   ],
   "source": [
    "print(x_test.shape)\n",
    "print(y_test.shape)"
   ]
  },
  {
   "cell_type": "code",
   "execution_count": 29,
   "metadata": {},
   "outputs": [],
   "source": [
    "x_train = x_train.reshape((-1,28,28,1))\n",
    "x_test = x_test.reshape((-1,28,28,1))"
   ]
  },
  {
   "cell_type": "code",
   "execution_count": 30,
   "metadata": {},
   "outputs": [],
   "source": [
    "y_train = tf.keras.utils.to_categorical(y_train)\n",
    "y_test = tf.keras.utils.to_categorical(y_test)"
   ]
  },
  {
   "cell_type": "code",
   "execution_count": 31,
   "metadata": {},
   "outputs": [
    {
     "name": "stdout",
     "output_type": "stream",
     "text": [
      "Model: \"sequential_8\"\n",
      "_________________________________________________________________\n",
      "Layer (type)                 Output Shape              Param #   \n",
      "=================================================================\n",
      "conv2d_24 (Conv2D)           (None, 26, 26, 10)        100       \n",
      "_________________________________________________________________\n",
      "max_pooling2d_23 (MaxPooling (None, 13, 13, 10)        0         \n",
      "_________________________________________________________________\n",
      "conv2d_25 (Conv2D)           (None, 11, 11, 64)        5824      \n",
      "_________________________________________________________________\n",
      "max_pooling2d_24 (MaxPooling (None, 5, 5, 64)          0         \n",
      "_________________________________________________________________\n",
      "conv2d_26 (Conv2D)           (None, 3, 3, 64)          36928     \n",
      "_________________________________________________________________\n",
      "flatten_1 (Flatten)          (None, 576)               0         \n",
      "_________________________________________________________________\n",
      "dense_24 (Dense)             (None, 64)                36928     \n",
      "_________________________________________________________________\n",
      "dense_25 (Dense)             (None, 32)                2080      \n",
      "_________________________________________________________________\n",
      "dense_26 (Dense)             (None, 10)                330       \n",
      "=================================================================\n",
      "Total params: 82,190\n",
      "Trainable params: 82,190\n",
      "Non-trainable params: 0\n",
      "_________________________________________________________________\n",
      "Epoch 1/20\n",
      "1875/1875 [==============================] - 34s 18ms/step - loss: 0.2464 - accuracy: 0.9359\n",
      "Epoch 2/20\n",
      "1875/1875 [==============================] - 34s 18ms/step - loss: 0.0617 - accuracy: 0.9809\n",
      "Epoch 3/20\n",
      "1875/1875 [==============================] - 34s 18ms/step - loss: 0.0499 - accuracy: 0.9848\n",
      "Epoch 4/20\n",
      "1875/1875 [==============================] - 34s 18ms/step - loss: 0.0401 - accuracy: 0.9881\n",
      "Epoch 5/20\n",
      "1875/1875 [==============================] - 34s 18ms/step - loss: 0.0353 - accuracy: 0.9892\n",
      "Epoch 6/20\n",
      "1875/1875 [==============================] - 38s 21ms/step - loss: 0.0300 - accuracy: 0.9910\n",
      "Epoch 7/20\n",
      "1875/1875 [==============================] - 39s 21ms/step - loss: 0.0251 - accuracy: 0.9925\n",
      "Epoch 8/20\n",
      "1875/1875 [==============================] - 35s 19ms/step - loss: 0.0270 - accuracy: 0.99191s - loss: - ETA: 0s - los\n",
      "Epoch 9/20\n",
      "1875/1875 [==============================] - 34s 18ms/step - loss: 0.0222 - accuracy: 0.9941\n",
      "Epoch 10/20\n",
      "1875/1875 [==============================] - 34s 18ms/step - loss: 0.0214 - accuracy: 0.99370s - l\n",
      "Epoch 11/20\n",
      "1875/1875 [==============================] - 34s 18ms/step - loss: 0.0197 - accuracy: 0.9944\n",
      "Epoch 12/20\n",
      "1875/1875 [==============================] - 34s 18ms/step - loss: 0.0190 - accuracy: 0.9945\n",
      "Epoch 13/20\n",
      "1875/1875 [==============================] - 34s 18ms/step - loss: 0.0186 - accuracy: 0.9948\n",
      "Epoch 14/20\n",
      "1875/1875 [==============================] - 34s 18ms/step - loss: 0.0166 - accuracy: 0.9951\n",
      "Epoch 15/20\n",
      "1875/1875 [==============================] - 62s 33ms/step - loss: 0.0164 - accuracy: 0.9954\n",
      "Epoch 16/20\n",
      "1875/1875 [==============================] - 35s 19ms/step - loss: 0.0164 - accuracy: 0.9953\n",
      "Epoch 17/20\n",
      "1875/1875 [==============================] - 35s 18ms/step - loss: 0.0133 - accuracy: 0.9965\n",
      "Epoch 18/20\n",
      "1875/1875 [==============================] - 35s 18ms/step - loss: 0.0158 - accuracy: 0.9959\n",
      "Epoch 19/20\n",
      "1875/1875 [==============================] - 35s 19ms/step - loss: 0.0173 - accuracy: 0.99550s - loss: 0.0174 - ac\n",
      "Epoch 20/20\n",
      "1875/1875 [==============================] - 35s 19ms/step - loss: 0.0134 - accuracy: 0.9964\n",
      "313/313 [==============================] - 2s 6ms/step - loss: 0.0549 - accuracy: 0.9901\n",
      "0.9901000261306763\n",
      "INFO:tensorflow:Assets written to: ./my_model\\assets\n"
     ]
    }
   ],
   "source": [
    "cnnModel = models.Sequential()\n",
    "\n",
    "cnnModel.add(layers.Conv2D(10,(3,3), activation = \"relu\", input_shape = (28,28,1)))\n",
    "cnnModel.add(layers.MaxPooling2D((2,2)))\n",
    "\n",
    "cnnModel.add(layers.Conv2D(64,(3,3), activation = \"relu\"))\n",
    "cnnModel.add(layers.MaxPooling2D((2,2)))\n",
    "\n",
    "cnnModel.add(layers.Conv2D(64,(3,3), activation = \"relu\"))\n",
    "cnnModel.add(layers.Flatten())\n",
    "\n",
    "cnnModel.add(layers.Dense(64, activation= \"relu\"))\n",
    "cnnModel.add(layers.Dense(32, activation= \"relu\"))\n",
    "cnnModel.add(layers.Dense(10, activation= \"softmax\"))\n",
    "\n",
    "cnnModel.summary()\n",
    "\n",
    "cnnModel.compile(optimizer = \"adam\", loss = \"categorical_crossentropy\",metrics= [\"accuracy\"])\n",
    "\n",
    "cnnModel.fit(x_train,y_train, epochs= 20, batch_size = 32)\n",
    "\n",
    "testLoss, testAccuracy = cnnModel.evaluate(x_test,y_test)\n",
    "print(testAccuracy)\n",
    "\n",
    "cnnModel.save('./my_model')\n",
    "cnnModel.save_weights('./my_checkpoint')"
   ]
  },
  {
   "cell_type": "code",
   "execution_count": 35,
   "metadata": {},
   "outputs": [
    {
     "name": "stdout",
     "output_type": "stream",
     "text": [
      "[7]\n"
     ]
    }
   ],
   "source": [
    "print(cnnModel.predict_classes(x_test[:1]))"
   ]
  },
  {
   "cell_type": "code",
   "execution_count": 36,
   "metadata": {},
   "outputs": [
    {
     "data": {
      "image/png": "[encoded data removed]",
      "text/plain": [
       "<Figure size 432x288 with 1 Axes>"
      ]
     },
     "metadata": {
      "needs_background": "light"
     },
     "output_type": "display_data"
    }
   ],
   "source": [
    "from matplotlib import pyplot as plt \n",
    "plt.imshow(x_test[0].reshape((28,28)))\n",
    "plt.show([0])"
   ]
  },
  {
   "cell_type": "code",
   "execution_count": null,
   "metadata": {},
   "outputs": [],
   "source": []
  }
 ],
 "metadata": {
  "kernelspec": {
   "display_name": "Python 3",
   "language": "python",
   "name": "python3"
  },
  "language_info": {
   "codemirror_mode": {
    "name": "ipython",
    "version": 3
   },
   "file_extension": ".py",
   "mimetype": "text/x-python",
   "name": "python",
   "nbconvert_exporter": "python",
   "pygments_lexer": "ipython3",
   "version": "3.7.6"
  }
 },
 "nbformat": 4,
 "nbformat_minor": 4
}
